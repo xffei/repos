{
 "cells": [
  {
   "cell_type": "code",
   "execution_count": null,
   "metadata": {},
   "outputs": [],
   "source": [
    "import pandas as pd\n",
    "import mytools\n",
    "from scipy import stats\n",
    "import matplotlib.pyplot as plt"
   ]
  },
  {
   "cell_type": "code",
   "execution_count": null,
   "metadata": {},
   "outputs": [],
   "source": [
    "数据表 = mytools.读取SPSS数据文件(R'data\\国家认同数据清理后.sav',True)\n",
    "数据表.columns"
   ]
  },
  {
   "cell_type": "code",
   "execution_count": null,
   "metadata": {},
   "outputs": [],
   "source": [
    "# 创建民族、年级和政治面貌的交互表\n",
    "cross_tab = pd.crosstab(index=[数据表['年级'], 数据表['会打多少分']],\n",
    "                        columns=数据表['政治面貌'],\n",
    "                        margins=True, normalize=True) # All 行和列的总和\n",
    "\n",
    "cross_tab"
   ]
  },
  {
   "cell_type": "code",
   "execution_count": null,
   "metadata": {},
   "outputs": [],
   "source": [
    "from scipy import stats\n",
    "# 假设我们关注的是第二年级的学生（假设年级用数字“2”表示）\n",
    "specific_grade = '大四'\n",
    "\n",
    "# 筛选出特定年级的数据\n",
    "df_specific_grade = 数据表[数据表['年级'] == specific_grade]\n",
    "\n",
    "# 创建会打多少分和政治面貌的交互表\n",
    "cross_tab_specific_grade = pd.crosstab(df_specific_grade['会打多少分'], df_specific_grade['政治面貌'])\n",
    "\n",
    "# 进行卡方检验\n",
    "chi2_grade, p_grade, dof_grade, expected_grade = stats.chi2_contingency(cross_tab_specific_grade)\n",
    "\n",
    "chi2_grade, p_grade, dof_grade, "
   ]
  },
  {
   "cell_type": "code",
   "execution_count": null,
   "metadata": {},
   "outputs": [],
   "source": [
    "mytools.两个无序类别变量的统计分析(df_specific_grade,'政治面貌','会打多少分')"
   ]
  },
  {
   "cell_type": "code",
   "execution_count": null,
   "metadata": {},
   "outputs": [],
   "source": [
    "import plotly.express as px\n",
    "fig = px.pie(df_specific_grade, names=\"政治面貌\")\n",
    "fig.show()\n"
   ]
  },
  {
   "cell_type": "code",
   "execution_count": null,
   "metadata": {},
   "outputs": [],
   "source": [
    "# 创建政治面貌、年级和发展信心的交互表  \n",
    "cross_tab = pd.crosstab(index=[数据表['年级'], 数据表['发展信心']],  \n",
    "                        columns=数据表['政治面貌'],  \n",
    "                        margins=True, normalize=True)  # 归一化，显示百分比  \n",
    "  \n",
    "# 显示交互表  \n",
    "print(\"交互表（百分比）：\")  \n",
    "print(cross_tab)  \n",
    "  \n",
    "# 显示交互表的合计  \n",
    "print(\"\\n交互表合计：\")  \n",
    "print(cross_tab.loc['All'])  # 显示行合计  \n",
    "print(cross_tab.iloc[:, -1])  # 显示列合计  \n",
    "  "
   ]
  },
  {
   "cell_type": "code",
   "execution_count": null,
   "metadata": {},
   "outputs": [],
   "source": [
    "from scipy import stats\n",
    "# 假设我们关注的是第三年级的学生（假设年级用数字“3”表示）\n",
    "specific_grade = '大三'\n",
    "\n",
    "# 筛选出特定年级的数据\n",
    "df_specific_grade = 数据表[数据表['年级'] == specific_grade]\n",
    "\n",
    "# 创建发展信心和政治面貌的交互表\n",
    "cross_tab_specific_grade = pd.crosstab(df_specific_grade['发展信心'], df_specific_grade['政治面貌'])\n",
    "\n",
    "# 显示特定年级的交互表（百分比）  \n",
    "print(\"\\n特定年级的交互表（百分比）：\")  \n",
    "print(cross_tab_specific_grade)\n",
    "\n",
    "# 进行卡方检验\n",
    "chi2_grade, p_grade, dof_grade, expected_grade = stats.chi2_contingency(cross_tab_specific_grade)\n",
    "print(\"\\n卡方检验结果：\")  \n",
    "print(f\"χ² = {chi2_grade}, p = {p_grade}, df = {dof_grade}\")\n"
   ]
  },
  {
   "cell_type": "code",
   "execution_count": null,
   "metadata": {},
   "outputs": [],
   "source": [
    "print(type(data['政治面貌']))\n",
    "print(type(data['发展信心']))"
   ]
  },
  {
   "cell_type": "code",
   "execution_count": null,
   "metadata": {},
   "outputs": [],
   "source": [
    "# 使用factorize()方法将字符串转换为数值  \n",
    "political_attitude_num = pd.factorize(political_attitude)[0]  \n",
    "development_confidence_num = pd.factorize(development_confidence)[0]  \n",
    "  \n",
    "# 计算相关系数  \n",
    "pearson_r, p_value = stats.pearsonr(political_attitude_num, development_confidence_num)\n",
    "\n",
    "print(f\"政治面貌与发展信心的皮尔逊相关系数为：{pearson_r:.3f}\")    \n",
    "print(f\"p值为：{p_value:.3f}\")"
   ]
  }
 ],
 "metadata": {
  "kernelspec": {
   "display_name": "Python 3",
   "language": "python",
   "name": "python3"
  },
  "language_info": {
   "codemirror_mode": {
    "name": "ipython",
    "version": 3
   },
   "file_extension": ".py",
   "mimetype": "text/x-python",
   "name": "python",
   "nbconvert_exporter": "python",
   "pygments_lexer": "ipython3",
   "version": "3.8.10"
  }
 },
 "nbformat": 4,
 "nbformat_minor": 2
}
