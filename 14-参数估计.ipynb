{
 "cells": [
  {
   "cell_type": "markdown",
   "metadata": {},
   "source": [
    "参数估计\n",
    "参数估计是推论统计学中的一个核心概念，旨在根据样本数据估计总体的未知参数。这里的参数通常是指总体的某些特征，如均值、方差、比例等。参数估计主要分为两类：点估计和区间估计。\n",
    "\n",
    "点值估计\n",
    "设总体X的分布函数的形式已知，但它的一个或多个参数未知，借助于总体X的一个样本来估计总体未知参数的值的问题称为参数的点估计问题。\n",
    "\n",
    "点值估计，就是以一个适当的样本统计值来代表总体的参数值。如用样本均值X估计总体均值μ，或者用样本标准差S估计总体标准差σ。\n",
    "\n",
    "例如：\n",
    "\n",
    "报告显示，截至2022年6月，我国网民规模为10.51亿，较2021年12月新增网民1919万，互联网普及率达74.4%。网民人均每周上网时长为29.5个小时，使用手机上网的比例达99.6%。\n",
    "\n",
    "但是点估计不能提供估计参数的估计误差大小，所以点估计主要为许多定性研究提供一定的参考数据，或在对总体参数要求不精确时使用，而在需要用精确总体参数的数据进行决策时则很少使用。\n",
    "\n",
    "区间估计\n",
    "区间估计指的是，在点估计的基础上，以区间的形式估计出一个范围，并给出这个范围中包含参数值真值的可信程度。区间估计就是以两个数值之间的间距来估计参数值，至于间距的大小，取决于可信程度（也叫置信度）。间距的大小（误差范围）与置信度（可靠程度）的高低成反比。\n",
    "\n",
    "均值的区间估计\n",
    "⎺X±1.96(S/√n)\n",
    "\n",
    "其中1.96为95%置信水平对于的Z值。S为样本标准差，n是样本规模，¯x是样本的平均值。\n",
    "\n",
    "比例值的区间估计\n",
    " \n",
    "p±1.96√p（1－p）/n\n",
    "其中p为样本的比例值，n为样本规模，1.96为95%置信水平对于的Z值。"
   ]
  },
  {
   "cell_type": "code",
   "execution_count": 5,
   "metadata": {},
   "outputs": [],
   "source": [
    "import pandas as pd\n",
    "from scipy import stats\n",
    "# 打开数据文件\n",
    "file_path = R\"data\\movie_data_cleaned.csv\"\n",
    "df_movies = pd.read_csv(file_path)\n"
   ]
  },
  {
   "cell_type": "code",
   "execution_count": 6,
   "metadata": {},
   "outputs": [
    {
     "name": "stdout",
     "output_type": "stream",
     "text": [
      "均值： 7.20\n",
      "均值在置信水平0.95下的置信区间为： (7.171337577138237, 7.2214184794700635)\n"
     ]
    }
   ],
   "source": [
    "# 计算均值和标准误差\n",
    "mean = df_movies['average'].mean()\n",
    "std_error = stats.sem(df_movies['average'])\n",
    "# 设定置信水平\n",
    "confidence_level = 0.95\n",
    "# 设定自由度\n",
    "df = len(df_movies['average']) - 1\n",
    "# 计算置信区间\n",
    "confidence_interval = stats.t.interval(confidence_level, df, loc=mean, scale=std_error)\n",
    "# 输出结果\n",
    "print(F\"均值：{mean: .2f}\")\n",
    "print(F\"均值在置信水平{confidence_level}下的置信区间为：\", confidence_interval)"
   ]
  },
  {
   "cell_type": "code",
   "execution_count": 7,
   "metadata": {},
   "outputs": [],
   "source": [
    "import pandas as pd  \n",
    "from scipy import stats  \n",
    "  \n",
    "# 打开数据文件  \n",
    "file_path = R\"data/movie_data_cleaned.csv\"  \n",
    "df_movies = pd.read_csv(file_path)  \n",
    "\n",
    " # 使用sample函数实现随机抽取\n",
    "# 从总体中随机抽取100行数据  \n",
    "sample_df = df_movies.sample(n=100) \n"
   ]
  },
  {
   "cell_type": "code",
   "execution_count": 8,
   "metadata": {},
   "outputs": [
    {
     "ename": "NameError",
     "evalue": "name 'sample_std_error' is not defined",
     "output_type": "error",
     "traceback": [
      "\u001b[1;31m---------------------------------------------------------------------------\u001b[0m",
      "\u001b[1;31mNameError\u001b[0m                                 Traceback (most recent call last)",
      "\u001b[1;32mc:\\Users\\86136\\OneDrive\\桌面\\repos\\14-参数估计.ipynb 单元格 5\u001b[0m line \u001b[0;36m1\n\u001b[0;32m     <a href='vscode-notebook-cell:/c%3A/Users/86136/OneDrive/%E6%A1%8C%E9%9D%A2/repos/14-%E5%8F%82%E6%95%B0%E4%BC%B0%E8%AE%A1.ipynb#W4sZmlsZQ%3D%3D?line=9'>10</a>\u001b[0m df \u001b[39m=\u001b[39m \u001b[39mlen\u001b[39m(sample_df[\u001b[39m'\u001b[39m\u001b[39maverage\u001b[39m\u001b[39m'\u001b[39m]) \u001b[39m-\u001b[39m \u001b[39m1\u001b[39m \n\u001b[0;32m     <a href='vscode-notebook-cell:/c%3A/Users/86136/OneDrive/%E6%A1%8C%E9%9D%A2/repos/14-%E5%8F%82%E6%95%B0%E4%BC%B0%E8%AE%A1.ipynb#W4sZmlsZQ%3D%3D?line=11'>12</a>\u001b[0m \u001b[39m# 计算抽取样本置信区间 \u001b[39;00m\n\u001b[1;32m---> <a href='vscode-notebook-cell:/c%3A/Users/86136/OneDrive/%E6%A1%8C%E9%9D%A2/repos/14-%E5%8F%82%E6%95%B0%E4%BC%B0%E8%AE%A1.ipynb#W4sZmlsZQ%3D%3D?line=12'>13</a>\u001b[0m confidence_interval \u001b[39m=\u001b[39m stats\u001b[39m.\u001b[39mt\u001b[39m.\u001b[39minterval(confidence_level, df, loc\u001b[39m=\u001b[39msample_mean, scale\u001b[39m=\u001b[39msample_std_error)  \n\u001b[0;32m     <a href='vscode-notebook-cell:/c%3A/Users/86136/OneDrive/%E6%A1%8C%E9%9D%A2/repos/14-%E5%8F%82%E6%95%B0%E4%BC%B0%E8%AE%A1.ipynb#W4sZmlsZQ%3D%3D?line=14'>15</a>\u001b[0m \u001b[39m# 输出结果  \u001b[39;00m\n\u001b[0;32m     <a href='vscode-notebook-cell:/c%3A/Users/86136/OneDrive/%E6%A1%8C%E9%9D%A2/repos/14-%E5%8F%82%E6%95%B0%E4%BC%B0%E8%AE%A1.ipynb#W4sZmlsZQ%3D%3D?line=15'>16</a>\u001b[0m \u001b[39mprint\u001b[39m(\u001b[39mF\u001b[39m\u001b[39m\"\u001b[39m\u001b[39m样本均值：\u001b[39m\u001b[39m{\u001b[39;00msample_mean\u001b[39m:\u001b[39;00m\u001b[39m .2f\u001b[39m\u001b[39m}\u001b[39;00m\u001b[39m\"\u001b[39m)  \n",
      "\u001b[1;31mNameError\u001b[0m: name 'sample_std_error' is not defined"
     ]
    }
   ],
   "source": [
    "# 再计算抽取样本的均值和置信区间\n",
    "\n",
    "# 计算抽取样本均值  \n",
    "sample_mean = sample_df['average'].mean()\n",
    "\n",
    "# 设定置信水平  \n",
    "confidence_level = 0.95   \n",
    "  \n",
    "# 设定自由度  \n",
    "df = len(sample_df['average']) - 1 \n",
    "\n",
    "# 计算抽取样本置信区间 \n",
    "confidence_interval = stats.t.interval(confidence_level, df, loc=sample_mean, scale=sample_std_error)  \n",
    "  \n",
    "# 输出结果  \n",
    "print(F\"样本均值：{sample_mean: .2f}\")  \n",
    "print(F\"样本均值在置信水平{confidence_level}下的置信区间为：\", confidence_interval)"
   ]
  }
 ],
 "metadata": {
  "kernelspec": {
   "display_name": "Python 3",
   "language": "python",
   "name": "python3"
  },
  "language_info": {
   "codemirror_mode": {
    "name": "ipython",
    "version": 3
   },
   "file_extension": ".py",
   "mimetype": "text/x-python",
   "name": "python",
   "nbconvert_exporter": "python",
   "pygments_lexer": "ipython3",
   "version": "3.8.10"
  }
 },
 "nbformat": 4,
 "nbformat_minor": 2
}
