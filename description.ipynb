{
 "cells": [
  {
   "cell_type": "code",
   "execution_count": null,
   "metadata": {},
   "outputs": [],
   "source": [
    "# 单变量描述统计\n",
    "\n",
    "## 无序类别变量描述统计\n",
    "\n",
    "import pandas as pd\n",
    "import matplotlib.pyplot as plt\n",
    "plt.rcParams[\"font.sans-serif\"]=[\"SimHei\"] #设置字体\n",
    "df = pd.read_spss(R'data/identity.sav')"
   ]
  },
  {
   "cell_type": "code",
   "execution_count": null,
   "metadata": {},
   "outputs": [],
   "source": [
    "df['民族'].value_counts(normalize=True)"
   ]
  },
  {
   "cell_type": "code",
   "execution_count": null,
   "metadata": {},
   "outputs": [],
   "source": [
    "x = df['政治面貌'].value_counts().index\n",
    "y = df['政治面貌'].value_counts(normalize=True).values * 100\n",
    "fig, ax2 = plt.subplots()\n",
    "labels = df['政治面貌'].value_counts().index\n",
    "ax2.pie(y, autopct='%1.1f%%', labels=labels, textprops=dict(color=\"w\"))\n",
    "plt.show()"
   ]
  },
  {
   "cell_type": "code",
   "execution_count": null,
   "metadata": {},
   "outputs": [],
   "source": [
    "x = df['民族'].value_counts().index\n",
    "y = df['民族'].value_counts(normalize=True).values * 100\n",
    "fig, ax2 = plt.subplots()\n",
    "rectsl = ax2.bar(x,y)\n",
    "ax2.set_xlabel('民族')\n",
    "ax2.set_ylim(ymax=100)\n",
    "ax2.bar_label(rectsl, fmt=\"%.1f\", padding=3)\n",
    "plt.show()"
   ]
  },
  {
   "cell_type": "code",
   "execution_count": null,
   "metadata": {},
   "outputs": [],
   "source": [
    "# 有序定类变量描述统计， 可增加累计次数和累计比例的统计。可采用饼图或柱状图进行可视化。\n",
    "df['年级'].value_counts()\n"
   ]
  },
  {
   "cell_type": "code",
   "execution_count": null,
   "metadata": {},
   "outputs": [],
   "source": [
    "from pyreadstat import pyreadstat\n",
    "国家认同调查数据表, metadata = pyreadstat.read_sav(R'data\\identity.sav',apply_value_formats=True,formats_as_ordered_category=True)\n",
    "result = 国家认同调查数据表['会打多少分'].value_counts(sort=False)"
   ]
  },
  {
   "cell_type": "code",
   "execution_count": null,
   "metadata": {},
   "outputs": [],
   "source": [
    "国家认同调查数据表['年级'].value_counts(sort=False)"
   ]
  },
  {
   "cell_type": "code",
   "execution_count": null,
   "metadata": {},
   "outputs": [],
   "source": [
    "df_result = pd.DataFrame(国家认同调查数据表['年级'].value_counts(sort=False))\n",
    "df_result['累计求和'] = df_result['count'].cumsum()\n",
    "# df_result['新变量'] = 1\n",
    "# df_result['新变量2'] = df_result.新变量1 + 1\n",
    "df_result['比例'] = 国家认同调查数据表['年级'].value_counts(normalize=True)\n",
    "df_result['累计比例'] = df_result['比例'].cumsum()"
   ]
  },
  {
   "cell_type": "code",
   "execution_count": null,
   "metadata": {},
   "outputs": [],
   "source": [
    "df_result"
   ]
  },
  {
   "cell_type": "code",
   "execution_count": null,
   "metadata": {},
   "outputs": [],
   "source": [
    "x = df_result.index\n",
    "y = df_result['count'].values\n",
    "fig, ax2 = plt.subplots()\n",
    "ax2.bar(x,y)\n",
    "plt.show()"
   ]
  },
  {
   "cell_type": "code",
   "execution_count": null,
   "metadata": {},
   "outputs": [],
   "source": [
    "import mytools\n",
    "描述统计结果表 = mytools.有序变量描述统计函数(国家认同调查数据表,'年级')\n",
    "描述统计结果表"
   ]
  },
  {
   "cell_type": "code",
   "execution_count": null,
   "metadata": {},
   "outputs": [],
   "source": [
    "mytools.绘制直方图(描述统计结果表,'count')"
   ]
  },
  {
   "cell_type": "code",
   "execution_count": null,
   "metadata": {},
   "outputs": [],
   "source": [
    "描述统计结果表 = mytools.有序变量描述统计函数(国家认同调查数据表,'您觉得中国怎么样')\n",
    "描述统计结果表"
   ]
  },
  {
   "cell_type": "code",
   "execution_count": null,
   "metadata": {},
   "outputs": [],
   "source": [
    "mytools.绘制直方图(描述统计结果表)"
   ]
  }
 ],
 "metadata": {
  "kernelspec": {
   "display_name": "Python 3",
   "language": "python",
   "name": "python3"
  },
  "language_info": {
   "codemirror_mode": {
    "name": "ipython",
    "version": 3
   },
   "file_extension": ".py",
   "mimetype": "text/x-python",
   "name": "python",
   "nbconvert_exporter": "python",
   "pygments_lexer": "ipython3",
   "version": "3.8.10"
  }
 },
 "nbformat": 4,
 "nbformat_minor": 2
}
